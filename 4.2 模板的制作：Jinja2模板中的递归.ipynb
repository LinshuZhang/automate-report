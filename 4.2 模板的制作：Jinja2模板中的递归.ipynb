{
 "cells": [
  {
   "cell_type": "markdown",
   "metadata": {},
   "source": [
    "### 学习目标\n",
    "\n",
    "- 使用jinja2模板的递归方法重构报告生成模板"
   ]
  },
  {
   "cell_type": "markdown",
   "metadata": {},
   "source": [
    "### 前期设置\n",
    "- 初始化document\n",
    "- 定义直接显示jinja2渲染结果的函数render_templ"
   ]
  },
  {
   "cell_type": "markdown",
   "metadata": {},
   "source": [
    "### Recursive Example For Jinja2"
   ]
  },
  {
   "cell_type": "markdown",
   "metadata": {},
   "source": [
    "首先我们来看一个Jinja2模板的递归例子，需要注意此时的渲染方式有变化，需要提前设置环境。"
   ]
  },
  {
   "cell_type": "code",
   "execution_count": 2,
   "metadata": {},
   "outputs": [
    {
     "name": "stdout",
     "output_type": "stream",
     "text": [
      "\n",
      "    depth=1. idx=1. pidx=0. title=a\n",
      "    depth=2. idx=1. pidx=1. title=a_a\n",
      "    depth=3. idx=1. pidx=1. title=a_a_a\n",
      "    depth=2. idx=2. pidx=1. title=a_b\n",
      "    depth=3. idx=1. pidx=2. title=a_b_a\n",
      "    depth=4. idx=1. pidx=1. title=a_b_a_0\n",
      "    depth=1. idx=2. pidx=0. title=b\n"
     ]
    }
   ],
   "source": [
    "import jinja2\n",
    "\n",
    "template = \"\"\"\n",
    "{%- set idxs = [0] -%}\n",
    "{%- for item in sitemap recursive %}\n",
    "    depth={{idxs|length}}. idx={{loop.index}}. pidx={{idxs[-1]}}. title={{item.title}}\n",
    "    {%- if item.children -%}\n",
    "        {%- do idxs.append(loop.index) -%}\n",
    "        {{ loop(item.children) }}\n",
    "        {%- do idxs.pop() -%}\n",
    "    {%- endif %}\n",
    "{%- endfor %}\n",
    "\"\"\"\n",
    "\n",
    "class Node():\n",
    "    def __init__(self, title, children=[]):\n",
    "        self.title = title\n",
    "        self.children = children\n",
    "\n",
    "sitemap = [\n",
    "    Node('a', [\n",
    "        Node('a_a', [\n",
    "            Node('a_a_a'),\n",
    "            ]),\n",
    "        Node('a_b', [\n",
    "            Node('a_b_a', [\n",
    "                Node('a_b_a_0'),\n",
    "                ]),\n",
    "            ]),\n",
    "        ]),\n",
    "    Node('b'),\n",
    "    ]\n",
    "\n",
    "env = jinja2.Environment(extensions=['jinja2.ext.do'])\n",
    "print(env.from_string(template).render(sitemap=sitemap))"
   ]
  },
  {
   "cell_type": "markdown",
   "metadata": {},
   "source": [
    "### 把之前生成报告的模板改为使用递归的形式"
   ]
  },
  {
   "cell_type": "markdown",
   "metadata": {},
   "source": [
    "而我们的Docoment类同样是一个树结构，可以进行递归的模板生成。而且每个Chapter和SubChapter都有着类似的结构，可以使用同样的处理方式，所以可以把我们之前的jinja2模板改为：\n",
    "```\n",
    "<body>\n",
    "<section class = \"rich-text\">\n",
    "<h1>{{ document.title }}</h1>\n",
    "<p>{{ document.foreword }}</p>\n",
    "\n",
    "{% for chapter in document.chapters recursive %}\n",
    "    {%- if not chapter.title is none %}\n",
    "        <h2>{{ chapter.title }}</h2>\n",
    "    {%- endif -%}\n",
    "    {%- if not chapter.foreword is none %}\n",
    "        <p>{{ chapter.foreword }}</p>\n",
    "    {%- endif -%}\n",
    "    {% if not chapter.table is none %}\n",
    "    {% set table = chapter.table %}\n",
    "        <table>\n",
    "            <tr class='chapter_table'>\n",
    "            {% for column in table.columns %}\n",
    "            <th>{{column}}</th>\n",
    "            {% endfor %}\n",
    "            </tr>\n",
    "            {% for index in table.index %}\n",
    "                <tr>\n",
    "                {% for column in table.columns %}\n",
    "                    <td>{{ table[column][index] }}</td>\n",
    "                {% endfor %}\n",
    "                </tr>\n",
    "            {% endfor %}\n",
    "        </table>\n",
    "    {% endif %}\n",
    "    {% if not chapter.image is none %}\n",
    "        {% set image = chapter.image %}\n",
    "        <div><img src=\"{{ image }}\"></div>\n",
    "    {% endif %}\n",
    "    {% if not chapter.content is none %}\n",
    "        <p>{{ chapter.content }}</p>\n",
    "    {% endif %}\n",
    "    {% if chapter.chapters.__len__() > 0 %}\n",
    "        {{ loop(chapter.chapters) }}\n",
    "    {% endif %}\n",
    "\n",
    "{% endfor %}\n",
    "</section>\n",
    "</body>\n",
    "```"
   ]
  },
  {
   "cell_type": "markdown",
   "metadata": {},
   "source": [
    "## 作业\n",
    "上面的递归会把所有的章标题记录为`<h2>`，对于更深一层的子章节我们需要使用更小的标签，比如`<h3>`，这时候就可以使用递归深度来做规定。请自行做出作为练习。\n",
    "想要直接查看结果可以参照[Example_3](https://github.com/LinshuZhang/automate-report/tree/master/Example_3)"
   ]
  },
  {
   "cell_type": "code",
   "execution_count": null,
   "metadata": {
    "collapsed": true
   },
   "outputs": [],
   "source": []
  }
 ],
 "metadata": {
  "hide_input": false,
  "kernelspec": {
   "display_name": "Python 3",
   "language": "python",
   "name": "python3"
  },
  "language_info": {
   "codemirror_mode": {
    "name": "ipython",
    "version": 3
   },
   "file_extension": ".py",
   "mimetype": "text/x-python",
   "name": "python",
   "nbconvert_exporter": "python",
   "pygments_lexer": "ipython3",
   "version": "3.6.1"
  }
 },
 "nbformat": 4,
 "nbformat_minor": 2
}
