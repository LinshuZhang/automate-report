{
 "cells": [
  {
   "cell_type": "code",
   "execution_count": 3,
   "metadata": {
    "collapsed": true
   },
   "outputs": [],
   "source": [
    "from jinja2 import Template"
   ]
  },
  {
   "cell_type": "markdown",
   "metadata": {},
   "source": [
    "### 学习目标\n",
    "\n",
    "- 了解jinja2模板常用语句"
   ]
  },
  {
   "cell_type": "markdown",
   "metadata": {},
   "source": [
    "### 前期设置\n",
    "- 初始化document\n",
    "- 定义直接显示jinja2渲染结果的函数render_templ"
   ]
  },
  {
   "cell_type": "code",
   "execution_count": 12,
   "metadata": {
    "collapsed": true
   },
   "outputs": [],
   "source": [
    "class NameDict(object):\n",
    "    def __getattr__(self, name):\n",
    "        try:\n",
    "            return self.name\n",
    "        except:\n",
    "            logging.error(\"Attribute is not exist\")\n",
    "            return None\n",
    "        \n",
    "    def __getitem__(self, name):\n",
    "        return self.__dict__[name]\n",
    "    \n",
    "    def __setitem__(self, name, value):\n",
    "        self.__dict__[name] = value"
   ]
  },
  {
   "cell_type": "code",
   "execution_count": 13,
   "metadata": {},
   "outputs": [],
   "source": [
    "document = NameDict()"
   ]
  },
  {
   "cell_type": "code",
   "execution_count": 19,
   "metadata": {},
   "outputs": [],
   "source": [
    "def render_templ(templ):\n",
    "    t = Template(templ)\n",
    "    html = t.render(document=document)\n",
    "    return html"
   ]
  },
  {
   "cell_type": "markdown",
   "metadata": {},
   "source": [
    "#### 使用{{}}直接生成内容"
   ]
  },
  {
   "cell_type": "code",
   "execution_count": 21,
   "metadata": {},
   "outputs": [
    {
     "data": {
      "text/plain": [
       "'This is a title'"
      ]
     },
     "execution_count": 21,
     "metadata": {},
     "output_type": "execute_result"
    }
   ],
   "source": [
    "document['title'] = \"This is a title\"\n",
    "templ = \"{{ document.title }}\"\n",
    "render_templ(templ)"
   ]
  },
  {
   "cell_type": "markdown",
   "metadata": {},
   "source": [
    "#### 循环生成内容\n",
    "```\n",
    "{% for element in element_list %}\n",
    "{{ element }}\n",
    "{% endfor %}\n",
    "```"
   ]
  },
  {
   "cell_type": "code",
   "execution_count": 36,
   "metadata": {
    "scrolled": true
   },
   "outputs": [
    {
     "name": "stdout",
     "output_type": "stream",
     "text": [
      "the begin\n",
      "\n",
      "T\n",
      "\n",
      "h\n",
      "\n",
      "i\n",
      "\n",
      "s\n",
      "\n",
      " \n",
      "\n",
      "i\n",
      "\n",
      "s\n",
      "\n",
      " \n",
      "\n",
      "a\n",
      "\n",
      " \n",
      "\n",
      "t\n",
      "\n",
      "i\n",
      "\n",
      "t\n",
      "\n",
      "l\n",
      "\n",
      "e\n",
      "\n",
      "the end\n"
     ]
    }
   ],
   "source": [
    "templ = \"\"\"the begin\n",
    "{% for element in document['title'] %}\n",
    "{{ element }}\n",
    "{% endfor %}\n",
    "the end\"\"\"\n",
    "print(render_templ(templ))"
   ]
  },
  {
   "cell_type": "markdown",
   "metadata": {},
   "source": [
    "这里出现了大量的空白，是用于{}外的空白符号并不会在render使自动忽略，若想自动忽略空白，需要在`{%`加入`-`，比如\n",
    "```\n",
    "{% for element in element_list -%}\n",
    "{{ element }}\n",
    "{%- endfor %}\n",
    "```\n",
    "就可以去除循环内部的空白。同理\n",
    "```\n",
    "{%- for element in element_list %}\n",
    "{{ element }}\n",
    "{% endfor -%}\n",
    "```\n",
    "可以去除外部的空白，有效防止模板排版对生成内容的影响。\n"
   ]
  },
  {
   "cell_type": "code",
   "execution_count": 32,
   "metadata": {},
   "outputs": [
    {
     "name": "stdout",
     "output_type": "stream",
     "text": [
      "the begin\n",
      "This is a title\n",
      "the end\n"
     ]
    }
   ],
   "source": [
    "templ = \"\"\"the begin\n",
    "{% for element in document['title'] -%}\n",
    "{{ element }}\n",
    "{%- endfor %}\n",
    "the end\"\"\"\n",
    "print(render_templ(templ))"
   ]
  },
  {
   "cell_type": "code",
   "execution_count": 35,
   "metadata": {},
   "outputs": [
    {
     "name": "stdout",
     "output_type": "stream",
     "text": [
      "the beginThis is a titlethe end\n"
     ]
    }
   ],
   "source": [
    "templ = \"\"\"the begin\n",
    "{%- for element in document['title'] -%}\n",
    "{{ element }}\n",
    "{%- endfor -%}\n",
    "the end\"\"\"\n",
    "print(render_templ(templ))"
   ]
  },
  {
   "cell_type": "markdown",
   "metadata": {},
   "source": [
    "#### 赋值"
   ]
  },
  {
   "cell_type": "code",
   "execution_count": 38,
   "metadata": {},
   "outputs": [
    {
     "name": "stdout",
     "output_type": "stream",
     "text": [
      "the begin\n",
      "This is a title\n",
      "the end\n"
     ]
    }
   ],
   "source": [
    "templ = \"\"\"the begin\n",
    "{% set element = document['title'] -%}\n",
    "{{ element }}\n",
    "the end\"\"\"\n",
    "print(render_templ(templ))"
   ]
  },
  {
   "cell_type": "markdown",
   "metadata": {},
   "source": [
    "#### 条件语句"
   ]
  },
  {
   "cell_type": "code",
   "execution_count": 42,
   "metadata": {},
   "outputs": [
    {
     "name": "stdout",
     "output_type": "stream",
     "text": [
      "the begin\n",
      "This is a title\n",
      "the end\n"
     ]
    }
   ],
   "source": [
    "document.has_title = True\n",
    "templ = \"\"\"the begin\n",
    "{% if document.has_title -%}\n",
    "{{ document['title'] }}\n",
    "{%- endif %}\n",
    "the end\"\"\"\n",
    "print(render_templ(templ))"
   ]
  },
  {
   "cell_type": "code",
   "execution_count": 41,
   "metadata": {},
   "outputs": [
    {
     "name": "stdout",
     "output_type": "stream",
     "text": [
      "the begin\n",
      "\n",
      "the end\n"
     ]
    }
   ],
   "source": [
    "document.has_title = False\n",
    "templ = \"\"\"the begin\n",
    "{% if document.has_title -%}\n",
    "{{ document['title'] }}\n",
    "{%- endif %}\n",
    "the end\"\"\"\n",
    "print(render_templ(templ))"
   ]
  },
  {
   "cell_type": "code",
   "execution_count": null,
   "metadata": {
    "collapsed": true
   },
   "outputs": [],
   "source": []
  }
 ],
 "metadata": {
  "hide_input": false,
  "kernelspec": {
   "display_name": "Python 3",
   "language": "python",
   "name": "python3"
  },
  "language_info": {
   "codemirror_mode": {
    "name": "ipython",
    "version": 3
   },
   "file_extension": ".py",
   "mimetype": "text/x-python",
   "name": "python",
   "nbconvert_exporter": "python",
   "pygments_lexer": "ipython3",
   "version": "3.6.1"
  }
 },
 "nbformat": 4,
 "nbformat_minor": 2
}
