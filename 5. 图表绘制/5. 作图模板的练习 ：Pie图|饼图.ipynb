{
 "cells": [
  {
   "cell_type": "code",
   "execution_count": 13,
   "metadata": {
    "collapsed": true
   },
   "outputs": [],
   "source": [
    "# -*- coding:utf-8 -*-\n",
    "import numpy as np\n",
    "import pandas as pd\n",
    "from itertools import cycle\n",
    "from IPython.display import Image\n",
    "import matplotlib.pyplot as plt\n",
    "import matplotlib as mpl\n",
    "import matplotlib.font_manager as mfm\n",
    "import matplotlib.gridspec as gridspec\n",
    "import matplotlib.ticker as plticker"
   ]
  },
  {
   "cell_type": "markdown",
   "metadata": {},
   "source": [
    "### 目标图表形式"
   ]
  },
  {
   "cell_type": "markdown",
   "metadata": {},
   "source": [
    "### 加入数据"
   ]
  },
  {
   "cell_type": "code",
   "execution_count": 11,
   "metadata": {
    "collapsed": true
   },
   "outputs": [],
   "source": [
    "data = pd.DataFrame(np.array([['5.0', '4.5-5', '4-4.5', '3.5-4', '0-3.5'],\n",
    "                             [10, 46, 38, 18, 4]]).T,\n",
    "                    columns = ['评论星级','频数']\n",
    "                   )"
   ]
  },
  {
   "cell_type": "code",
   "execution_count": 12,
   "metadata": {},
   "outputs": [
    {
     "data": {
      "text/html": [
       "<div>\n",
       "<style scoped>\n",
       "    .dataframe tbody tr th:only-of-type {\n",
       "        vertical-align: middle;\n",
       "    }\n",
       "\n",
       "    .dataframe tbody tr th {\n",
       "        vertical-align: top;\n",
       "    }\n",
       "\n",
       "    .dataframe thead th {\n",
       "        text-align: right;\n",
       "    }\n",
       "</style>\n",
       "<table border=\"1\" class=\"dataframe\">\n",
       "  <thead>\n",
       "    <tr style=\"text-align: right;\">\n",
       "      <th></th>\n",
       "      <th>评论星级</th>\n",
       "      <th>频数</th>\n",
       "    </tr>\n",
       "  </thead>\n",
       "  <tbody>\n",
       "    <tr>\n",
       "      <th>0</th>\n",
       "      <td>5.0</td>\n",
       "      <td>10</td>\n",
       "    </tr>\n",
       "    <tr>\n",
       "      <th>1</th>\n",
       "      <td>4.5-5</td>\n",
       "      <td>46</td>\n",
       "    </tr>\n",
       "    <tr>\n",
       "      <th>2</th>\n",
       "      <td>4-4.5</td>\n",
       "      <td>38</td>\n",
       "    </tr>\n",
       "    <tr>\n",
       "      <th>3</th>\n",
       "      <td>3.5-4</td>\n",
       "      <td>18</td>\n",
       "    </tr>\n",
       "    <tr>\n",
       "      <th>4</th>\n",
       "      <td>0-3.5</td>\n",
       "      <td>4</td>\n",
       "    </tr>\n",
       "  </tbody>\n",
       "</table>\n",
       "</div>"
      ],
      "text/plain": [
       "    评论星级  频数\n",
       "0    5.0  10\n",
       "1  4.5-5  46\n",
       "2  4-4.5  38\n",
       "3  3.5-4  18\n",
       "4  0-3.5   4"
      ]
     },
     "execution_count": 12,
     "metadata": {},
     "output_type": "execute_result"
    }
   ],
   "source": [
    "data"
   ]
  },
  {
   "cell_type": "markdown",
   "metadata": {},
   "source": [
    "### 直接画出饼图"
   ]
  },
  {
   "cell_type": "markdown",
   "metadata": {},
   "source": [
    "#### 参数设置，方便后面直接进行使用"
   ]
  },
  {
   "cell_type": "code",
   "execution_count": 17,
   "metadata": {
    "collapsed": true
   },
   "outputs": [],
   "source": [
    "font_path = {}\n",
    "prop = {}\n",
    "font_path['hei'] = './font/MSYHMONO.ttf'\n",
    "font_path['english'] = './font/Calibri.ttf'\n",
    "for font_name in list(font_path):\n",
    "    prop[font_name] = mfm.FontProperties(fname=font_path[font_name])\n",
    "title_font = prop['hei'].copy()\n",
    "title_font.set_size(14)\n",
    "\n",
    "\n",
    "default_colors = {}\n",
    "default_colors['blue'] = '#6CADDD'\n",
    "default_colors['yellow'] = '#F3903F'\n",
    "default_colors['red'] = '#CB615A'\n",
    "default_colors['orange'] = '#F3903F'\n",
    "default_colors['gray'] = '#B4B4B4'\n",
    "default_colors['lightyellow'] = '#FCC900'\n",
    "default_colors['royalblue'] = '#5488CF'\n",
    "\n",
    "# 构造颜色的循环迭代器\n",
    "color_cycle = cycle(['blue', 'orange', 'red', 'lightyellow', 'royalblue'])"
   ]
  },
  {
   "cell_type": "code",
   "execution_count": 30,
   "metadata": {},
   "outputs": [
    {
     "data": {
      "image/png": "[encoded data removed]",
      "text/plain": [
       "<matplotlib.figure.Figure at 0x10dbde748>"
      ]
     },
     "execution_count": 30,
     "metadata": {},
     "output_type": "execute_result"
    }
   ],
   "source": [
    "# 饼图\n",
    "fig = plt.figure(figsize=(5.708,2.756))\n",
    "gs = gridspec.GridSpec(1, 1)\n",
    "ax = fig.add_subplot(gs[0])\n",
    "length = len(data)\n",
    "explode = np.ones(length)*0.03\n",
    "labels = data['评论星级']\n",
    "plt.title(u'星级分布', y=1.08, fontproperties=title_font)\n",
    "colors = list(default_colors.values())\n",
    "patches = ax.pie(data['频数'], explode=explode, labels=labels, colors=colors, autopct='%d%%')\n",
    "\n",
    "handles = []\n",
    "for i, l in enumerate(labels):\n",
    "    handles.append(mpl.patches.Patch(color=colors[i],label=l))\n",
    "ax.legend(handles, labels, loc=\"center right\", frameon=False)\n",
    "ax.axis('equal')\n",
    "gs.tight_layout(fig)\n",
    "fig"
   ]
  },
  {
   "cell_type": "markdown",
   "metadata": {},
   "source": [
    "### 练习\n",
    "用类的形式做出饼图的模板"
   ]
  },
  {
   "cell_type": "code",
   "execution_count": null,
   "metadata": {
    "collapsed": true
   },
   "outputs": [],
   "source": []
  }
 ],
 "metadata": {
  "hide_input": false,
  "kernelspec": {
   "display_name": "Python 3",
   "language": "python",
   "name": "python3"
  },
  "language_info": {
   "codemirror_mode": {
    "name": "ipython",
    "version": 3
   },
   "file_extension": ".py",
   "mimetype": "text/x-python",
   "name": "python",
   "nbconvert_exporter": "python",
   "pygments_lexer": "ipython3",
   "version": "3.6.1"
  }
 },
 "nbformat": 4,
 "nbformat_minor": 2
}
