{
 "cells": [
  {
   "cell_type": "markdown",
   "metadata": {},
   "source": [
    "### 知识基础\n",
    "\n",
    "- Pandas包基础:pd.read_csv\n",
    "- 正则表达式基础"
   ]
  },
  {
   "cell_type": "markdown",
   "metadata": {},
   "source": [
    "在数据获取过程中由于网络延迟或者数据抓取规则的缘故，出现数据重复问题也是很常见的，所以需要对数据进行查重和去重处理。"
   ]
  },
  {
   "cell_type": "markdown",
   "metadata": {},
   "source": [
    "首先每一行需要基于一个或者多个属性(attribution)是唯一(unique)的，或者确定数据唯一的规则，然后对数据进行查重和去重处理，继续以`data.csv`为例。"
   ]
  },
  {
   "cell_type": "markdown",
   "metadata": {},
   "source": [
    "## 导入数据"
   ]
  },
  {
   "cell_type": "code",
   "execution_count": 1,
   "metadata": {},
   "outputs": [],
   "source": [
    "from datapipeline import data"
   ]
  },
  {
   "cell_type": "code",
   "execution_count": 2,
   "metadata": {},
   "outputs": [
    {
     "data": {
      "text/html": [
       "<div>\n",
       "<style scoped>\n",
       "    .dataframe tbody tr th:only-of-type {\n",
       "        vertical-align: middle;\n",
       "    }\n",
       "\n",
       "    .dataframe tbody tr th {\n",
       "        vertical-align: top;\n",
       "    }\n",
       "\n",
       "    .dataframe thead th {\n",
       "        text-align: right;\n",
       "    }\n",
       "</style>\n",
       "<table border=\"1\" class=\"dataframe\">\n",
       "  <thead>\n",
       "    <tr style=\"text-align: right;\">\n",
       "      <th></th>\n",
       "      <th>Product Name</th>\n",
       "      <th>Brand</th>\n",
       "      <th>Price</th>\n",
       "      <th>Category</th>\n",
       "      <th>Rank</th>\n",
       "      <th>Sales</th>\n",
       "      <th>Revenue</th>\n",
       "      <th>Reviews</th>\n",
       "      <th>Rating</th>\n",
       "      <th>Seller</th>\n",
       "      <th>LQS</th>\n",
       "      <th>ASIN</th>\n",
       "      <th>Link</th>\n",
       "    </tr>\n",
       "    <tr>\n",
       "      <th>#</th>\n",
       "      <th></th>\n",
       "      <th></th>\n",
       "      <th></th>\n",
       "      <th></th>\n",
       "      <th></th>\n",
       "      <th></th>\n",
       "      <th></th>\n",
       "      <th></th>\n",
       "      <th></th>\n",
       "      <th></th>\n",
       "      <th></th>\n",
       "      <th></th>\n",
       "      <th></th>\n",
       "    </tr>\n",
       "  </thead>\n",
       "  <tbody>\n",
       "    <tr>\n",
       "      <th>1</th>\n",
       "      <td>Mind Reader Adjustable Height Ergonomic Foot R...</td>\n",
       "      <td>Mind Reader</td>\n",
       "      <td>14.99</td>\n",
       "      <td>Office Products</td>\n",
       "      <td>286.0</td>\n",
       "      <td>4440.0</td>\n",
       "      <td>66556.0</td>\n",
       "      <td>309.0</td>\n",
       "      <td>4.0</td>\n",
       "      <td>AMZ</td>\n",
       "      <td>N.A.</td>\n",
       "      <td>B07FMGMVT8</td>\n",
       "      <td>https://www.amazon.com/dp/B07FMGMVT8</td>\n",
       "    </tr>\n",
       "    <tr>\n",
       "      <th>2</th>\n",
       "      <td>AmazonBasics Foot Rest - Black</td>\n",
       "      <td>AmazonBasics</td>\n",
       "      <td>13.19</td>\n",
       "      <td>Office Products</td>\n",
       "      <td>539.0</td>\n",
       "      <td>3115.0</td>\n",
       "      <td>41087.0</td>\n",
       "      <td>657.0</td>\n",
       "      <td>4.0</td>\n",
       "      <td>N.A.</td>\n",
       "      <td>5</td>\n",
       "      <td>B01DN8TG46</td>\n",
       "      <td>https://www.amazon.com/dp/B01DN8TG46</td>\n",
       "    </tr>\n",
       "    <tr>\n",
       "      <th>3</th>\n",
       "      <td>Sleepy Ride - Airplane Footrest Made with Prem...</td>\n",
       "      <td>Sleepy Ride</td>\n",
       "      <td>19.97</td>\n",
       "      <td>Office Products</td>\n",
       "      <td>1067.0</td>\n",
       "      <td>2075.0</td>\n",
       "      <td>41438.0</td>\n",
       "      <td>386.0</td>\n",
       "      <td>4.5</td>\n",
       "      <td>FBA</td>\n",
       "      <td>5</td>\n",
       "      <td>B01M35M87O</td>\n",
       "      <td>https://www.amazon.com/dp/B01M35M87O</td>\n",
       "    </tr>\n",
       "    <tr>\n",
       "      <th>4</th>\n",
       "      <td>Rest My Sole - Foot Rest Cushion for Under Des...</td>\n",
       "      <td>Well Desk</td>\n",
       "      <td>26.95</td>\n",
       "      <td>Office Products</td>\n",
       "      <td>1159.0</td>\n",
       "      <td>1661.0</td>\n",
       "      <td>44764.0</td>\n",
       "      <td>188.0</td>\n",
       "      <td>4.5</td>\n",
       "      <td>FBA</td>\n",
       "      <td>8</td>\n",
       "      <td>B075RYDWZH</td>\n",
       "      <td>https://www.amazon.com/dp/B075RYDWZH</td>\n",
       "    </tr>\n",
       "    <tr>\n",
       "      <th>5</th>\n",
       "      <td>Andyer Andyer Foot Rest, Portable Travel Footr...</td>\n",
       "      <td>Andyer</td>\n",
       "      <td>10.99</td>\n",
       "      <td>Home &amp; Kitchen</td>\n",
       "      <td>6169.0</td>\n",
       "      <td>1384.0</td>\n",
       "      <td>15210.0</td>\n",
       "      <td>215.0</td>\n",
       "      <td>4.0</td>\n",
       "      <td>FBA</td>\n",
       "      <td>6</td>\n",
       "      <td>B072VJ9BKX</td>\n",
       "      <td>https://www.amazon.com/dp/B072VJ9BKX</td>\n",
       "    </tr>\n",
       "  </tbody>\n",
       "</table>\n",
       "</div>"
      ],
      "text/plain": [
       "                                        Product Name         Brand  Price  \\\n",
       "#                                                                           \n",
       "1  Mind Reader Adjustable Height Ergonomic Foot R...   Mind Reader  14.99   \n",
       "2                     AmazonBasics Foot Rest - Black  AmazonBasics  13.19   \n",
       "3  Sleepy Ride - Airplane Footrest Made with Prem...   Sleepy Ride  19.97   \n",
       "4  Rest My Sole - Foot Rest Cushion for Under Des...     Well Desk  26.95   \n",
       "5  Andyer Andyer Foot Rest, Portable Travel Footr...        Andyer  10.99   \n",
       "\n",
       "          Category    Rank   Sales  Revenue  Reviews  Rating Seller   LQS  \\\n",
       "#                                                                           \n",
       "1  Office Products   286.0  4440.0  66556.0    309.0     4.0    AMZ  N.A.   \n",
       "2  Office Products   539.0  3115.0  41087.0    657.0     4.0   N.A.     5   \n",
       "3  Office Products  1067.0  2075.0  41438.0    386.0     4.5    FBA     5   \n",
       "4  Office Products  1159.0  1661.0  44764.0    188.0     4.5    FBA     8   \n",
       "5   Home & Kitchen  6169.0  1384.0  15210.0    215.0     4.0    FBA     6   \n",
       "\n",
       "         ASIN                                  Link  \n",
       "#                                                    \n",
       "1  B07FMGMVT8  https://www.amazon.com/dp/B07FMGMVT8  \n",
       "2  B01DN8TG46  https://www.amazon.com/dp/B01DN8TG46  \n",
       "3  B01M35M87O  https://www.amazon.com/dp/B01M35M87O  \n",
       "4  B075RYDWZH  https://www.amazon.com/dp/B075RYDWZH  \n",
       "5  B072VJ9BKX  https://www.amazon.com/dp/B072VJ9BKX  "
      ]
     },
     "execution_count": 2,
     "metadata": {},
     "output_type": "execute_result"
    }
   ],
   "source": [
    "data.head()"
   ]
  },
  {
   "cell_type": "markdown",
   "metadata": {},
   "source": [
    "现在没有重复的行，我们可以先手动添加一下"
   ]
  },
  {
   "cell_type": "code",
   "execution_count": 10,
   "metadata": {},
   "outputs": [
    {
     "name": "stdout",
     "output_type": "stream",
     "text": [
      "110\n"
     ]
    }
   ],
   "source": [
    "data = data.append(data[0:10])\n",
    "print(data.__len__())"
   ]
  },
  {
   "cell_type": "markdown",
   "metadata": {},
   "source": [
    "显然，data中ASIN为唯一attr，可基于ASIN去重"
   ]
  },
  {
   "cell_type": "code",
   "execution_count": 11,
   "metadata": {},
   "outputs": [
    {
     "name": "stdout",
     "output_type": "stream",
     "text": [
      "100\n"
     ]
    }
   ],
   "source": [
    "data = data.drop_duplicates('ASIN')\n",
    "print(data.__len__())"
   ]
  },
  {
   "cell_type": "markdown",
   "metadata": {},
   "source": [
    "**Tip:**\n",
    "\n",
    "实际操作过程中要基于数据特征和业务需求进行去重处理，甚至可能需要自行编写去重规则，在此先不展开说明了。"
   ]
  },
  {
   "cell_type": "code",
   "execution_count": null,
   "metadata": {
    "collapsed": true
   },
   "outputs": [],
   "source": []
  }
 ],
 "metadata": {
  "hide_input": false,
  "kernelspec": {
   "display_name": "Python 3",
   "language": "python",
   "name": "python3"
  },
  "language_info": {
   "codemirror_mode": {
    "name": "ipython",
    "version": 3
   },
   "file_extension": ".py",
   "mimetype": "text/x-python",
   "name": "python",
   "nbconvert_exporter": "python",
   "pygments_lexer": "ipython3",
   "version": "3.6.1"
  }
 },
 "nbformat": 4,
 "nbformat_minor": 2
}
