{
 "cells": [
  {
   "cell_type": "markdown",
   "metadata": {},
   "source": [
    "教程已上传[Github](https://github.com/LinshuZhang/automate-report)\n",
    "\n",
    "对报告进行自动化是对一篇成熟的数据分析报告的提升，而数据分析报告已经成熟时对报告进行自动化的充要条件。\n",
    "一篇成熟的数据分析报告有如下要求：\n",
    "- 稳定的数据获取来源\n",
    "    - 使用爬虫或者调用API获取数据\n",
    "    - 对缺失数据有成熟的补全或者筛选方式\n",
    "    \n",
    "- 确定的数据分析方法\n",
    "    - 允许基于不同的情况进行不同的数据分析思路，但是所有分析思路必须是一个有限集，自动化报告是没有创造性的\n",
    "- 较为固定的分析描述语言\n",
    "    - 把数据结果使用自然语言描述出来，使用较为固定的句式方便与自动化处理\n",
    "    - 对于信息整合有较为固定的逻辑，方便自动化写出报告总结\n",
    "    \n",
    "而什么样子的报告适合进行自动化呢？必然是自动化之后可以节约大量的人力和脑力成本，提升报告产出效率的，且这样的报告会出现如下特征：\n",
    "- 相同的分析方法对不同的数据多次重复性使用\n",
    "- 同样式的图表对不同的数据需要重复作图\n",
    "- 同样的分析描述需要每篇报告再写一遍\n",
    ".....\n",
    "重点在于，明明已经设计好了分析思路却需要进行一遍遍单调枯燥的数据分析，被日常性工作消耗了大量时间精力。\n",
    "\n",
    "那么完成报告自动化之后有什么样的成果呢？\n",
    "- 只需要手动写出需要人工分析的少部分内容\n",
    "- 报告主体部分一键自动化生产\n",
    "- 报告可以进行模块化生产，提升整个报告生产流程的效率"
   ]
  },
  {
   "cell_type": "code",
   "execution_count": null,
   "metadata": {
    "collapsed": true
   },
   "outputs": [],
   "source": []
  }
 ],
 "metadata": {
  "hide_input": false,
  "kernelspec": {
   "display_name": "Python 3",
   "language": "python",
   "name": "python3"
  },
  "language_info": {
   "codemirror_mode": {
    "name": "ipython",
    "version": 3
   },
   "file_extension": ".py",
   "mimetype": "text/x-python",
   "name": "python",
   "nbconvert_exporter": "python",
   "pygments_lexer": "ipython3",
   "version": "3.6.1"
  }
 },
 "nbformat": 4,
 "nbformat_minor": 2
}
