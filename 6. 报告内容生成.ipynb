{
 "cells": [
  {
   "cell_type": "markdown",
   "metadata": {},
   "source": [
    "### 知识基础\n",
    "\n",
    "- 了解Python类的基础\n",
    "- 了解jinja2模板\n",
    "- 了解HTML和CSS进行网页页面设置\n",
    "- 代码来自于[Example_1](https://github.com/LinshuZhang/automate-report/tree/master/Example_1)"
   ]
  },
  {
   "cell_type": "markdown",
   "metadata": {},
   "source": [
    "### 学习目标\n",
    "\n",
    "- 使用已经添加好内容的 document 生成html文档"
   ]
  },
  {
   "cell_type": "markdown",
   "metadata": {},
   "source": [
    "这里我们使用jinja2模板来直接生成html格式的报告，使用html+css规定格式，使用jinja2渲染内容"
   ]
  },
  {
   "cell_type": "markdown",
   "metadata": {},
   "source": [
    "### jinja2模板"
   ]
  },
  {
   "cell_type": "markdown",
   "metadata": {},
   "source": [
    "首先使用html常用的头部（head）：\n",
    "```\n",
    "<!DOCTYPE html>\n",
    "<html lang=\"zh-CN\">\n",
    "<head>\n",
    "<meta charset=\"UTF-8\">\n",
    "</head>\n",
    "```\n",
    "然后对各个部分内容的格式进行规定：\n",
    "```\n",
    "<style>\n",
    "/*规定富文本部分的宽度*/\n",
    ".rich-text {max-width:960px} \n",
    "/*规定表格各个单元的格式\n",
    "*/\n",
    "table tr td { border:1px solid #000000;padding-right: 0.5em;padding-left: 0.5em;font-size:0.9em}\n",
    "table{margin: auto; text-align:center; border-collapse: collapse}\n",
    "th{border:1px solid #000000; padding-right: 0.5em;padding-left: 0.5em}\n",
    "/*文本居中*/\n",
    "div{text-align: center}\n",
    "/*各个段落的字号和段落格式*/\n",
    "h1{font-size: 1.4em;}\n",
    ".subtitle {font-size: 1.33em;text-align: right;}\n",
    "h2{font-size: 1.2em;}\n",
    "h3{font-size: 1em;}\n",
    "div img{width:34.252em;height: auto;display:inline-block;}\n",
    "table img{max-height: 1cm}\n",
    "table + div{margin: 1.5em 0em 0em 0em;}\n",
    "p{text-align: left;}\n",
    "</style>\n",
    "```"
   ]
  },
  {
   "cell_type": "markdown",
   "metadata": {},
   "source": [
    "逐个生成报告的各个组成章节\n",
    "```\n",
    "<body>\n",
    "<section class = \"rich-text\">\n",
    "<h1>{{ document.title }}</h1>\n",
    "<p>{{ document.foreword }}</p>\n",
    "\n",
    "{% for chapter in document.chapters %}\n",
    "    <h2>{{ chapter.title }}</h2>\n",
    "    {%- if chapter.foreword -%}\n",
    "    <p>{{ chapter.foreword }}</p>\n",
    "    {%- endif -%}\n",
    "    <p>{{ chapter.content }}</p>\n",
    "    {% if not chapter.table is none %}\n",
    "    {% set table = chapter.table %}\n",
    "        <table>\n",
    "            <tr class='chapter_table'>\n",
    "            {% for column in table.columns %}\n",
    "            <th>{{column}}</th>\n",
    "            {% endfor %}\n",
    "            </tr>\n",
    "            {% for index in table.index %}\n",
    "                <tr>\n",
    "                {% for column in table.columns %}\n",
    "                    <td>{{ table[column][index] }}</td>\n",
    "                {% endfor %}\n",
    "                </tr>\n",
    "            {% endfor %}\n",
    "        </table>\n",
    "    {% endif %}\n",
    "    {% for subchapter in chapter.chapters %}\n",
    "        {% if not subchapter.title is none %}\n",
    "            <h3>{{ subchapter.title }}</h3>\n",
    "            <p>{{ subchapter.foreword }}</p>\n",
    "            {% if not subchapter.table is none %}\n",
    "                {% set table = subchapter.table %}\n",
    "                <table>\n",
    "                    <tr class='chapter_table'>\n",
    "                    {% for column in table.columns %}\n",
    "                    <th>{{column}}</th>\n",
    "                    {% endfor %}\n",
    "                    </tr>\n",
    "                    {% for index in table.index %}\n",
    "                        <tr>\n",
    "                        {% for column in table.columns %}\n",
    "                            <td>{{ table[column][index] }}</td>\n",
    "                        {% endfor %}\n",
    "                        </tr>\n",
    "                    {% endfor %}\n",
    "                </table>\n",
    "            {% endif %}\n",
    "\n",
    "            {% if not subchapter.image is none %}\n",
    "                {% set image = subchapter.image %}\n",
    "                <div><img src=\"{{ image }}\"></div>\n",
    "            {% endif %}\n",
    "\n",
    "            <p>{{ subchapter.content }}</p>\n",
    "        {% endif %}\n",
    "    {% endfor %}\n",
    "\n",
    "{% endfor %}\n",
    "</section>\n",
    "</body>\n",
    "</html>\n",
    "```"
   ]
  },
  {
   "cell_type": "markdown",
   "metadata": {},
   "source": [
    "执行教程 `3. 报告的内容添加.ipynb` ，可以得到已经添加报告内容的document实例 "
   ]
  },
  {
   "cell_type": "code",
   "execution_count": 1,
   "metadata": {
    "scrolled": true
   },
   "outputs": [
    {
     "name": "stdout",
     "output_type": "stream",
     "text": [
      "chapter3_subchapter0\n",
      "title : 2018年5月21日-2018年5月27日亚马逊美站\t Pet Supplies \t品类爆款分析\n",
      "-chapter0\n",
      "--title : 一、总体情况\n",
      "-chapter1\n",
      "--title : 二、Best Seller榜单分析：\n",
      "\n",
      "---chapter1_subchapter0\n",
      "----title : 1.价格分布\n",
      "\n",
      "---chapter1_subchapter1\n",
      "----title : 2.评论量分布\n",
      "\n",
      "---chapter1_subchapter2\n",
      "----title : 3.商品排行\n",
      "\n",
      "---chapter1_subchapter3\n",
      "----title : 4.品牌排行\n",
      "-chapter2\n",
      "--title : 三、Hot New Releases榜单分析：\n",
      "\n",
      "---chapter2_subchapter0\n",
      "----title : 1.价格分布\n",
      "\n",
      "---chapter2_subchapter1\n",
      "----title : 2.评论量分布\n",
      "\n",
      "---chapter2_subchapter2\n",
      "----title : 3.商品排行\n",
      "\n",
      "---chapter2_subchapter3\n",
      "----title : 4.品牌排行\n",
      "-chapter3\n",
      "--title : 四、Movers & Shakers榜单分析：\n",
      "\n",
      "---chapter3_subchapter0\n",
      "----title : 1.价格分布\n",
      "\n",
      "---chapter3_subchapter1\n",
      "----title : 2.评论量分布\n",
      "\n",
      "---chapter3_subchapter2\n",
      "----title : 3.商品排行\n",
      "\n",
      "---chapter3_subchapter3\n",
      "----title : 4.品牌排行\n",
      "-chapter4\n",
      "--title :   \n"
     ]
    }
   ],
   "source": [
    "%run \"3. 报告的内容添加.ipynb\""
   ]
  },
  {
   "cell_type": "markdown",
   "metadata": {},
   "source": [
    "使用jinja2模板渲染document实例，生成报告 `report.html`"
   ]
  },
  {
   "cell_type": "code",
   "execution_count": 10,
   "metadata": {
    "collapsed": true
   },
   "outputs": [],
   "source": [
    "from jinja2 import Template\n",
    "html_name = 'report.html'\n",
    "with open('./template.html') as f:\n",
    "    templ = f.read()\n",
    "t = Template(templ)\n",
    "html = t.render(document=document)\n",
    "with open(html_name,'w') as f:\n",
    "    f.write(html)"
   ]
  }
 ],
 "metadata": {
  "hide_input": false,
  "kernelspec": {
   "display_name": "Python 3",
   "language": "python",
   "name": "python3"
  },
  "language_info": {
   "codemirror_mode": {
    "name": "ipython",
    "version": 3
   },
   "file_extension": ".py",
   "mimetype": "text/x-python",
   "name": "python",
   "nbconvert_exporter": "python",
   "pygments_lexer": "ipython3",
   "version": "3.6.1"
  }
 },
 "nbformat": 4,
 "nbformat_minor": 2
}
