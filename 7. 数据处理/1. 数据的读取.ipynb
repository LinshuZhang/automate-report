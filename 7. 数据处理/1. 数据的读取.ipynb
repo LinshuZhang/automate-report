{
 "cells": [
  {
   "cell_type": "markdown",
   "metadata": {},
   "source": [
    "### 知识基础\n",
    "\n",
    "- Pandas包基础:pd.read_csv\n",
    "- 正则表达式基础"
   ]
  },
  {
   "cell_type": "markdown",
   "metadata": {},
   "source": [
    "报告自动化对数据的质量有着更高的要求，但是实际情况中出现错漏是非常正常的，而我们不仅仅应该在出现问题后修复bug，在最开始就应该做好尽可能严格的规定并作出意外情况的报告和处理。"
   ]
  },
  {
   "cell_type": "markdown",
   "metadata": {},
   "source": [
    "## 读取CSV文件\n",
    "csv文件是我们常用的数据源，在此我们以csv文件为例"
   ]
  },
  {
   "cell_type": "markdown",
   "metadata": {},
   "source": [
    "### 首先我们可以查看要读取数据内容"
   ]
  },
  {
   "cell_type": "code",
   "execution_count": 18,
   "metadata": {
    "collapsed": true
   },
   "outputs": [],
   "source": [
    "import pandas as pd\n",
    "import numpy as np"
   ]
  },
  {
   "cell_type": "code",
   "execution_count": 5,
   "metadata": {},
   "outputs": [
    {
     "data": {
      "text/html": [
       "<div>\n",
       "<style scoped>\n",
       "    .dataframe tbody tr th:only-of-type {\n",
       "        vertical-align: middle;\n",
       "    }\n",
       "\n",
       "    .dataframe tbody tr th {\n",
       "        vertical-align: top;\n",
       "    }\n",
       "\n",
       "    .dataframe thead th {\n",
       "        text-align: right;\n",
       "    }\n",
       "</style>\n",
       "<table border=\"1\" class=\"dataframe\">\n",
       "  <thead>\n",
       "    <tr style=\"text-align: right;\">\n",
       "      <th></th>\n",
       "      <th>Product Name</th>\n",
       "      <th>Brand</th>\n",
       "      <th>Price</th>\n",
       "      <th>Category</th>\n",
       "      <th>Rank</th>\n",
       "      <th>Sales</th>\n",
       "      <th>Revenue</th>\n",
       "      <th>Reviews</th>\n",
       "      <th>Rating</th>\n",
       "      <th>Seller</th>\n",
       "      <th>LQS</th>\n",
       "      <th>ASIN</th>\n",
       "      <th>Link</th>\n",
       "    </tr>\n",
       "    <tr>\n",
       "      <th>#</th>\n",
       "      <th></th>\n",
       "      <th></th>\n",
       "      <th></th>\n",
       "      <th></th>\n",
       "      <th></th>\n",
       "      <th></th>\n",
       "      <th></th>\n",
       "      <th></th>\n",
       "      <th></th>\n",
       "      <th></th>\n",
       "      <th></th>\n",
       "      <th></th>\n",
       "      <th></th>\n",
       "    </tr>\n",
       "  </thead>\n",
       "  <tbody>\n",
       "    <tr>\n",
       "      <th>1</th>\n",
       "      <td>Mind Reader Adjustable Height Ergonomic Foot R...</td>\n",
       "      <td>Mind Reader</td>\n",
       "      <td>$14.99</td>\n",
       "      <td>Office Products</td>\n",
       "      <td>286</td>\n",
       "      <td>4,440</td>\n",
       "      <td>$66,556</td>\n",
       "      <td>309</td>\n",
       "      <td>4</td>\n",
       "      <td>AMZ</td>\n",
       "      <td>N.A.</td>\n",
       "      <td>B07FMGMVT8</td>\n",
       "      <td>https://www.amazon.com/dp/B07FMGMVT8</td>\n",
       "    </tr>\n",
       "    <tr>\n",
       "      <th>2</th>\n",
       "      <td>AmazonBasics Foot Rest - Black</td>\n",
       "      <td>AmazonBasics</td>\n",
       "      <td>$13.19</td>\n",
       "      <td>Office Products</td>\n",
       "      <td>539</td>\n",
       "      <td>3,115</td>\n",
       "      <td>$41,087</td>\n",
       "      <td>657</td>\n",
       "      <td>4</td>\n",
       "      <td>N.A.</td>\n",
       "      <td>5</td>\n",
       "      <td>B01DN8TG46</td>\n",
       "      <td>https://www.amazon.com/dp/B01DN8TG46</td>\n",
       "    </tr>\n",
       "    <tr>\n",
       "      <th>3</th>\n",
       "      <td>Sleepy Ride - Airplane Footrest Made with Prem...</td>\n",
       "      <td>Sleepy Ride</td>\n",
       "      <td>$19.97</td>\n",
       "      <td>Office Products</td>\n",
       "      <td>1,067</td>\n",
       "      <td>2,075</td>\n",
       "      <td>$41,438</td>\n",
       "      <td>386</td>\n",
       "      <td>4.5</td>\n",
       "      <td>FBA</td>\n",
       "      <td>5</td>\n",
       "      <td>B01M35M87O</td>\n",
       "      <td>https://www.amazon.com/dp/B01M35M87O</td>\n",
       "    </tr>\n",
       "    <tr>\n",
       "      <th>4</th>\n",
       "      <td>Rest My Sole - Foot Rest Cushion for Under Des...</td>\n",
       "      <td>Well Desk</td>\n",
       "      <td>$26.95</td>\n",
       "      <td>Office Products</td>\n",
       "      <td>1,159</td>\n",
       "      <td>1,661</td>\n",
       "      <td>$44,764</td>\n",
       "      <td>188</td>\n",
       "      <td>4.5</td>\n",
       "      <td>FBA</td>\n",
       "      <td>8</td>\n",
       "      <td>B075RYDWZH</td>\n",
       "      <td>https://www.amazon.com/dp/B075RYDWZH</td>\n",
       "    </tr>\n",
       "    <tr>\n",
       "      <th>5</th>\n",
       "      <td>Andyer Andyer Foot Rest, Portable Travel Footr...</td>\n",
       "      <td>Andyer</td>\n",
       "      <td>$10.99</td>\n",
       "      <td>Home &amp; Kitchen</td>\n",
       "      <td>6,169</td>\n",
       "      <td>1,384</td>\n",
       "      <td>$15,210</td>\n",
       "      <td>215</td>\n",
       "      <td>4</td>\n",
       "      <td>FBA</td>\n",
       "      <td>6</td>\n",
       "      <td>B072VJ9BKX</td>\n",
       "      <td>https://www.amazon.com/dp/B072VJ9BKX</td>\n",
       "    </tr>\n",
       "  </tbody>\n",
       "</table>\n",
       "</div>"
      ],
      "text/plain": [
       "                                        Product Name         Brand   Price  \\\n",
       "#                                                                            \n",
       "1  Mind Reader Adjustable Height Ergonomic Foot R...   Mind Reader  $14.99   \n",
       "2                     AmazonBasics Foot Rest - Black  AmazonBasics  $13.19   \n",
       "3  Sleepy Ride - Airplane Footrest Made with Prem...   Sleepy Ride  $19.97   \n",
       "4  Rest My Sole - Foot Rest Cushion for Under Des...     Well Desk  $26.95   \n",
       "5  Andyer Andyer Foot Rest, Portable Travel Footr...        Andyer  $10.99   \n",
       "\n",
       "          Category   Rank  Sales  Revenue  Reviews Rating Seller   LQS  \\\n",
       "#                                                                        \n",
       "1  Office Products    286  4,440  $66,556      309      4    AMZ  N.A.   \n",
       "2  Office Products    539  3,115  $41,087      657      4   N.A.     5   \n",
       "3  Office Products  1,067  2,075  $41,438      386    4.5    FBA     5   \n",
       "4  Office Products  1,159  1,661  $44,764      188    4.5    FBA     8   \n",
       "5   Home & Kitchen  6,169  1,384  $15,210      215      4    FBA     6   \n",
       "\n",
       "         ASIN                                  Link  \n",
       "#                                                    \n",
       "1  B07FMGMVT8  https://www.amazon.com/dp/B07FMGMVT8  \n",
       "2  B01DN8TG46  https://www.amazon.com/dp/B01DN8TG46  \n",
       "3  B01M35M87O  https://www.amazon.com/dp/B01M35M87O  \n",
       "4  B075RYDWZH  https://www.amazon.com/dp/B075RYDWZH  \n",
       "5  B072VJ9BKX  https://www.amazon.com/dp/B072VJ9BKX  "
      ]
     },
     "execution_count": 5,
     "metadata": {},
     "output_type": "execute_result"
    }
   ],
   "source": [
    "# 可以发现第8行才是头部，于是设置header参数\n",
    "data = pd.read_csv('data.csv', header=7, index_col=0)\n",
    "data.head()"
   ]
  },
  {
   "cell_type": "markdown",
   "metadata": {},
   "source": [
    "### 对读取目标列进行格式规定"
   ]
  },
  {
   "cell_type": "code",
   "execution_count": 7,
   "metadata": {},
   "outputs": [
    {
     "data": {
      "text/plain": [
       "Product Name    object\n",
       "Brand           object\n",
       "Price           object\n",
       "Category        object\n",
       "Rank            object\n",
       "Sales           object\n",
       "Revenue         object\n",
       "Reviews          int64\n",
       "Rating          object\n",
       "Seller          object\n",
       "LQS             object\n",
       "ASIN            object\n",
       "Link            object\n",
       "dtype: object"
      ]
     },
     "execution_count": 7,
     "metadata": {},
     "output_type": "execute_result"
    }
   ],
   "source": [
    "data.dtypes"
   ]
  },
  {
   "cell_type": "markdown",
   "metadata": {},
   "source": [
    "可以看到在列：Price, Rank, Sales, Revenue, Reviews, Rating, LQS都应该是数值，但是只有Review列被默认读取为数值"
   ]
  },
  {
   "cell_type": "markdown",
   "metadata": {},
   "source": [
    "#### 使用dtype进行格式规定"
   ]
  },
  {
   "cell_type": "code",
   "execution_count": 19,
   "metadata": {},
   "outputs": [
    {
     "name": "stdout",
     "output_type": "stream",
     "text": [
      "invalid literal for int() with base 10: '1,067'\n"
     ]
    }
   ],
   "source": [
    "dtype = {'#':int,\n",
    "         'Product Name':str,\n",
    "         'Brand':str,\n",
    "         'Price':float,\n",
    "         'Category':str,\n",
    "         'Rank':int,\n",
    "         'Sales':int,\n",
    "         'Revenue':int,\n",
    "         'Reviews':int,\n",
    "         'Rating':float,\n",
    "         'Seller':str,\n",
    "         'LQS':int,\n",
    "         'ASIN':str,\n",
    "         'Link':str\n",
    "        }\n",
    "try:\n",
    "    data = pd.read_csv('data.csv', dtype=dtype, header=7, index_col=0)\n",
    "except BaseException as e:\n",
    "    print(e)"
   ]
  },
  {
   "cell_type": "markdown",
   "metadata": {},
   "source": [
    "可以看到使用dtype并不能直接忽略非数字符号进行转换，我们需要更强的格式规定"
   ]
  },
  {
   "cell_type": "markdown",
   "metadata": {},
   "source": [
    "#### 使用converters进行格式转化"
   ]
  },
  {
   "cell_type": "code",
   "execution_count": 50,
   "metadata": {},
   "outputs": [
    {
     "data": {
      "text/html": [
       "<div>\n",
       "<style scoped>\n",
       "    .dataframe tbody tr th:only-of-type {\n",
       "        vertical-align: middle;\n",
       "    }\n",
       "\n",
       "    .dataframe tbody tr th {\n",
       "        vertical-align: top;\n",
       "    }\n",
       "\n",
       "    .dataframe thead th {\n",
       "        text-align: right;\n",
       "    }\n",
       "</style>\n",
       "<table border=\"1\" class=\"dataframe\">\n",
       "  <thead>\n",
       "    <tr style=\"text-align: right;\">\n",
       "      <th></th>\n",
       "      <th>Product Name</th>\n",
       "      <th>Brand</th>\n",
       "      <th>Price</th>\n",
       "      <th>Category</th>\n",
       "      <th>Rank</th>\n",
       "      <th>Sales</th>\n",
       "      <th>Revenue</th>\n",
       "      <th>Reviews</th>\n",
       "      <th>Rating</th>\n",
       "      <th>Seller</th>\n",
       "      <th>LQS</th>\n",
       "      <th>ASIN</th>\n",
       "      <th>Link</th>\n",
       "    </tr>\n",
       "    <tr>\n",
       "      <th>#</th>\n",
       "      <th></th>\n",
       "      <th></th>\n",
       "      <th></th>\n",
       "      <th></th>\n",
       "      <th></th>\n",
       "      <th></th>\n",
       "      <th></th>\n",
       "      <th></th>\n",
       "      <th></th>\n",
       "      <th></th>\n",
       "      <th></th>\n",
       "      <th></th>\n",
       "      <th></th>\n",
       "    </tr>\n",
       "  </thead>\n",
       "  <tbody>\n",
       "    <tr>\n",
       "      <th>1</th>\n",
       "      <td>Mind Reader Adjustable Height Ergonomic Foot R...</td>\n",
       "      <td>Mind Reader</td>\n",
       "      <td>14.99</td>\n",
       "      <td>Office Products</td>\n",
       "      <td>286.0</td>\n",
       "      <td>4440.0</td>\n",
       "      <td>66556.0</td>\n",
       "      <td>309.0</td>\n",
       "      <td>4.0</td>\n",
       "      <td>AMZ</td>\n",
       "      <td>N.A.</td>\n",
       "      <td>B07FMGMVT8</td>\n",
       "      <td>https://www.amazon.com/dp/B07FMGMVT8</td>\n",
       "    </tr>\n",
       "    <tr>\n",
       "      <th>2</th>\n",
       "      <td>AmazonBasics Foot Rest - Black</td>\n",
       "      <td>AmazonBasics</td>\n",
       "      <td>13.19</td>\n",
       "      <td>Office Products</td>\n",
       "      <td>539.0</td>\n",
       "      <td>3115.0</td>\n",
       "      <td>41087.0</td>\n",
       "      <td>657.0</td>\n",
       "      <td>4.0</td>\n",
       "      <td>N.A.</td>\n",
       "      <td>5</td>\n",
       "      <td>B01DN8TG46</td>\n",
       "      <td>https://www.amazon.com/dp/B01DN8TG46</td>\n",
       "    </tr>\n",
       "    <tr>\n",
       "      <th>3</th>\n",
       "      <td>Sleepy Ride - Airplane Footrest Made with Prem...</td>\n",
       "      <td>Sleepy Ride</td>\n",
       "      <td>19.97</td>\n",
       "      <td>Office Products</td>\n",
       "      <td>1067.0</td>\n",
       "      <td>2075.0</td>\n",
       "      <td>41438.0</td>\n",
       "      <td>386.0</td>\n",
       "      <td>4.5</td>\n",
       "      <td>FBA</td>\n",
       "      <td>5</td>\n",
       "      <td>B01M35M87O</td>\n",
       "      <td>https://www.amazon.com/dp/B01M35M87O</td>\n",
       "    </tr>\n",
       "    <tr>\n",
       "      <th>4</th>\n",
       "      <td>Rest My Sole - Foot Rest Cushion for Under Des...</td>\n",
       "      <td>Well Desk</td>\n",
       "      <td>26.95</td>\n",
       "      <td>Office Products</td>\n",
       "      <td>1159.0</td>\n",
       "      <td>1661.0</td>\n",
       "      <td>44764.0</td>\n",
       "      <td>188.0</td>\n",
       "      <td>4.5</td>\n",
       "      <td>FBA</td>\n",
       "      <td>8</td>\n",
       "      <td>B075RYDWZH</td>\n",
       "      <td>https://www.amazon.com/dp/B075RYDWZH</td>\n",
       "    </tr>\n",
       "    <tr>\n",
       "      <th>5</th>\n",
       "      <td>Andyer Andyer Foot Rest, Portable Travel Footr...</td>\n",
       "      <td>Andyer</td>\n",
       "      <td>10.99</td>\n",
       "      <td>Home &amp; Kitchen</td>\n",
       "      <td>6169.0</td>\n",
       "      <td>1384.0</td>\n",
       "      <td>15210.0</td>\n",
       "      <td>215.0</td>\n",
       "      <td>4.0</td>\n",
       "      <td>FBA</td>\n",
       "      <td>6</td>\n",
       "      <td>B072VJ9BKX</td>\n",
       "      <td>https://www.amazon.com/dp/B072VJ9BKX</td>\n",
       "    </tr>\n",
       "  </tbody>\n",
       "</table>\n",
       "</div>"
      ],
      "text/plain": [
       "                                        Product Name         Brand  Price  \\\n",
       "#                                                                           \n",
       "1  Mind Reader Adjustable Height Ergonomic Foot R...   Mind Reader  14.99   \n",
       "2                     AmazonBasics Foot Rest - Black  AmazonBasics  13.19   \n",
       "3  Sleepy Ride - Airplane Footrest Made with Prem...   Sleepy Ride  19.97   \n",
       "4  Rest My Sole - Foot Rest Cushion for Under Des...     Well Desk  26.95   \n",
       "5  Andyer Andyer Foot Rest, Portable Travel Footr...        Andyer  10.99   \n",
       "\n",
       "          Category    Rank   Sales  Revenue  Reviews  Rating Seller   LQS  \\\n",
       "#                                                                           \n",
       "1  Office Products   286.0  4440.0  66556.0    309.0     4.0    AMZ  N.A.   \n",
       "2  Office Products   539.0  3115.0  41087.0    657.0     4.0   N.A.     5   \n",
       "3  Office Products  1067.0  2075.0  41438.0    386.0     4.5    FBA     5   \n",
       "4  Office Products  1159.0  1661.0  44764.0    188.0     4.5    FBA     8   \n",
       "5   Home & Kitchen  6169.0  1384.0  15210.0    215.0     4.0    FBA     6   \n",
       "\n",
       "         ASIN                                  Link  \n",
       "#                                                    \n",
       "1  B07FMGMVT8  https://www.amazon.com/dp/B07FMGMVT8  \n",
       "2  B01DN8TG46  https://www.amazon.com/dp/B01DN8TG46  \n",
       "3  B01M35M87O  https://www.amazon.com/dp/B01M35M87O  \n",
       "4  B075RYDWZH  https://www.amazon.com/dp/B075RYDWZH  \n",
       "5  B072VJ9BKX  https://www.amazon.com/dp/B072VJ9BKX  "
      ]
     },
     "execution_count": 50,
     "metadata": {},
     "output_type": "execute_result"
    }
   ],
   "source": [
    "import re\n",
    "# 使用正则表达式进行数字提取\n",
    "def str2num(string):\n",
    "    if not isinstance(string, str):\n",
    "        string = str(string)\n",
    "    string = string.replace(',','')\n",
    "    regular_expression = '\\d+\\.?\\d*'\n",
    "    pattern = re.compile(regular_expression)\n",
    "    match = pattern.search(string)\n",
    "    if match:\n",
    "        return float(match.group())\n",
    "    else:\n",
    "        return float('nan')\n",
    "converters = {'Price':str2num,\n",
    "              'Rank':str2num,\n",
    "              'Rating':str2num,\n",
    "              'Sales':str2num,\n",
    "              'Revenue':str2num,\n",
    "              'Reviews':str2num\n",
    "             }\n",
    "try:\n",
    "    data = pd.read_csv('data.csv', converters=converters, header=7, index_col=0)\n",
    "except BaseException as e:\n",
    "    print(e)\n",
    "data.head()"
   ]
  },
  {
   "cell_type": "markdown",
   "metadata": {},
   "source": [
    "把不同的数据处理模块解耦，把str2num放入tools包，数据读取放入datapipeline包"
   ]
  },
  {
   "cell_type": "code",
   "execution_count": null,
   "metadata": {
    "collapsed": true
   },
   "outputs": [],
   "source": []
  }
 ],
 "metadata": {
  "hide_input": false,
  "kernelspec": {
   "display_name": "Python 3",
   "language": "python",
   "name": "python3"
  },
  "language_info": {
   "codemirror_mode": {
    "name": "ipython",
    "version": 3
   },
   "file_extension": ".py",
   "mimetype": "text/x-python",
   "name": "python",
   "nbconvert_exporter": "python",
   "pygments_lexer": "ipython3",
   "version": "3.6.1"
  }
 },
 "nbformat": 4,
 "nbformat_minor": 2
}
