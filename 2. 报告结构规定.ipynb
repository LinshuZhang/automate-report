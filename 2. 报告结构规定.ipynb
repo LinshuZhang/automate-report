{
 "cells": [
  {
   "cell_type": "markdown",
   "metadata": {},
   "source": [
    "### 知识基础\n",
    "\n",
    "- Python类的基础了解"
   ]
  },
  {
   "cell_type": "markdown",
   "metadata": {},
   "source": [
    "### 学习目标\n",
    "\n",
    "- 使用Python类构造文章结构"
   ]
  },
  {
   "cell_type": "markdown",
   "metadata": {},
   "source": [
    "### 1. 文章建立"
   ]
  },
  {
   "cell_type": "markdown",
   "metadata": {
    "collapsed": true
   },
   "source": [
    "首先，我们先建立基础的文章组成构建：文档，章，节。"
   ]
  },
  {
   "cell_type": "code",
   "execution_count": 1,
   "metadata": {
    "collapsed": true
   },
   "outputs": [],
   "source": [
    "class Document(object):\n",
    "    def __init__(self):\n",
    "        # 文章标题\n",
    "        self.title = None\n",
    "        # 子标题\n",
    "        self.subtitle = None\n",
    "        # 前言\n",
    "        self.foreword = None\n",
    "        # 章节\n",
    "        self.chapters = []\n",
    "\n",
    "class Chapter(Document):\n",
    "    def __init__(self):\n",
    "        super(Chapter, self).__init__()\n",
    "        # 章节内表格\n",
    "        self.table = None\n",
    "        # 章节内有多个图表时\n",
    "        self.tables = []\n",
    "        # 文本内容\n",
    "        self.content = None\n",
    "        # 图片\n",
    "        self.image = None\n",
    "        # 多个图片\n",
    "        self.images = []\n",
    "        \n",
    "# 子章节定义可以直接使用Chapter定义，利用了Python类的继承，也为之后自定义子章节提供了留白\n",
    "class Subchapter(Chapter):\n",
    "    pass"
   ]
  },
  {
   "cell_type": "markdown",
   "metadata": {},
   "source": [
    "### 2. 建立结构 "
   ]
  },
  {
   "cell_type": "code",
   "execution_count": 2,
   "metadata": {
    "collapsed": true
   },
   "outputs": [],
   "source": [
    "document = Document()"
   ]
  },
  {
   "cell_type": "markdown",
   "metadata": {},
   "source": [
    "以上我们对Document类做了基础的定义，下一步我们需要根据所要制作报告确定Document的结构，假如我们使用`Example 1`中的报告，报告由5个章节组成，其中最后一个总结的章节无标题，每个章节中有至多5个子章节，子章节中有单个图片和表格，章节中会有两个位置有文字"
   ]
  },
  {
   "cell_type": "markdown",
   "metadata": {},
   "source": [
    "#### 基于内容定制Chapter"
   ]
  },
  {
   "cell_type": "markdown",
   "metadata": {},
   "source": [
    "以上我们对Document类做了基础的定义，下一步我们需要根据所要制作报告确定Document的结构，假如我们使用`Example 1`中的报告，报告由10个App的介绍组成，而每个App的内容都依次为：标题、Applogo、说明文字、说明图片、榜单变动，那么我们可以定制Chapter类的组成结构"
   ]
  },
  {
   "cell_type": "code",
   "execution_count": 3,
   "metadata": {
    "collapsed": true
   },
   "outputs": [],
   "source": [
    "class Chapter(Document):\n",
    "    def __init__(self, subchapter_number=0):\n",
    "        \"\"\"\n",
    "        subchapter_number : 子章节数\n",
    "        \"\"\"\n",
    "        super(Chapter, self).__init__()\n",
    "        self.content1 = None\n",
    "        self.table = None\n",
    "        # 图表会先做出图片形式，此处保存图片的路径\n",
    "        self.image = None\n",
    "        self.content2 = None\n",
    "        self.rank_list_change = None\n",
    "        self.subchapters= [Chapter(subchapter_number=0) for i in range(subchapter_number)]\n",
    "        "
   ]
  },
  {
   "cell_type": "markdown",
   "metadata": {},
   "source": [
    "#### 为章节加入 添加图片的方法\n",
    "使用self.image或者self.images保存的为图片路径，为了方便我们可以直接把matplotlib的fig直接加入chapter中，只需要设定加入规则"
   ]
  },
  {
   "cell_type": "code",
   "execution_count": 4,
   "metadata": {
    "collapsed": true
   },
   "outputs": [],
   "source": [
    "class Chapter(Document):\n",
    "    def __init__(self, subchapter_number=0, number=''):\n",
    "        \"\"\"\n",
    "        subchapter_number : 子章节数\n",
    "        number : 章节编号，基于文档结构生成，需要是唯一的\n",
    "        \"\"\"\n",
    "        super(Chapter, self).__init__()\n",
    "        self.content1 = None\n",
    "        self.table = None\n",
    "        # 图表会先做出图片形式，此处保存图片的路径\n",
    "        self.image = None\n",
    "        self.content2 = None\n",
    "        self.rank_list_change = None\n",
    "        self.number = number\n",
    "        self.chapters= [Chapter(subchapter_number=0, number=\"{}_subchapter{}\".format(self.number, i)) \n",
    "                           for i in range(subchapter_number)]\n",
    "        # 设定图片保存的链接\n",
    "        self.image_path = './image/'\n",
    "        \n",
    "\n",
    "    def set_image(self, fig):\n",
    "        image_filename = '{}{}.png'.format(self.image_path, self.number)\n",
    "        fig.savefig(image_filename, dpi=160, bbox_inches='tight')\n",
    "        self.image = image_filename"
   ]
  },
  {
   "cell_type": "code",
   "execution_count": 5,
   "metadata": {},
   "outputs": [],
   "source": [
    "# 我们知道报告中有5个章节，每个章节至多有4个子章节\n",
    "# 此处代码可以加入document的__init__函数中，在实例化过程中直接完成\n",
    "document = Document()\n",
    "for i in range(5):\n",
    "    document.chapters.append(Chapter(subchapter_number=4, number=\"chapter{}\".format(i)))"
   ]
  },
  {
   "cell_type": "code",
   "execution_count": 6,
   "metadata": {},
   "outputs": [
    {
     "name": "stdout",
     "output_type": "stream",
     "text": [
      "chapter3_subchapter0\n"
     ]
    }
   ],
   "source": [
    "print(document.chapters[3].chapters[0].number)"
   ]
  },
  {
   "cell_type": "markdown",
   "metadata": {},
   "source": [
    "#### 添加函数直接打印document文档结构"
   ]
  },
  {
   "cell_type": "code",
   "execution_count": 7,
   "metadata": {
    "collapsed": true
   },
   "outputs": [],
   "source": [
    "def print_structure(chapter, deep):\n",
    "    if chapter.chapters:\n",
    "        for subchapter in chapter.chapters:\n",
    "            print('--'*deep+subchapter.number)\n",
    "            print_structure(subchapter, deep+1)\n",
    "    else:\n",
    "        return"
   ]
  },
  {
   "cell_type": "code",
   "execution_count": 8,
   "metadata": {
    "collapsed": true
   },
   "outputs": [],
   "source": [
    "## print_structure(document, 0)"
   ]
  },
  {
   "cell_type": "markdown",
   "metadata": {},
   "source": [
    "把此文件中做的报告结构保存入./ExampleCode/models.py\n",
    "并且把print_structure方法放入Document"
   ]
  },
  {
   "cell_type": "code",
   "execution_count": 9,
   "metadata": {
    "scrolled": true
   },
   "outputs": [],
   "source": [
    "from ExampleCode.models import Document"
   ]
  },
  {
   "cell_type": "code",
   "execution_count": 10,
   "metadata": {},
   "outputs": [
    {
     "name": "stdout",
     "output_type": "stream",
     "text": [
      "chapter0\n",
      "--chapter0_subchapter0\n",
      "--chapter0_subchapter1\n",
      "--chapter0_subchapter2\n",
      "--chapter0_subchapter3\n",
      "chapter1\n",
      "--chapter1_subchapter0\n",
      "--chapter1_subchapter1\n",
      "--chapter1_subchapter2\n",
      "--chapter1_subchapter3\n",
      "chapter2\n",
      "--chapter2_subchapter0\n",
      "--chapter2_subchapter1\n",
      "--chapter2_subchapter2\n",
      "--chapter2_subchapter3\n",
      "chapter3\n",
      "--chapter3_subchapter0\n",
      "--chapter3_subchapter1\n",
      "--chapter3_subchapter2\n",
      "--chapter3_subchapter3\n",
      "chapter4\n",
      "--chapter4_subchapter0\n",
      "--chapter4_subchapter1\n",
      "--chapter4_subchapter2\n",
      "--chapter4_subchapter3\n"
     ]
    }
   ],
   "source": [
    "document = Document()\n",
    "document.print_structure(0)"
   ]
  }
 ],
 "metadata": {
  "hide_input": false,
  "kernelspec": {
   "display_name": "Python 3",
   "language": "python",
   "name": "python3"
  },
  "language_info": {
   "codemirror_mode": {
    "name": "ipython",
    "version": 3
   },
   "file_extension": ".py",
   "mimetype": "text/x-python",
   "name": "python",
   "nbconvert_exporter": "python",
   "pygments_lexer": "ipython3",
   "version": "3.6.1"
  }
 },
 "nbformat": 4,
 "nbformat_minor": 2
}
