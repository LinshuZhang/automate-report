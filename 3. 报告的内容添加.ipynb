{
 "cells": [
  {
   "cell_type": "markdown",
   "metadata": {},
   "source": [
    "### 知识基础\n",
    "\n",
    "- Python类的基础了解"
   ]
  },
  {
   "cell_type": "markdown",
   "metadata": {},
   "source": [
    "### 学习目标\n",
    "\n",
    "- 在已经构造完毕的文档中添加内容"
   ]
  },
  {
   "cell_type": "code",
   "execution_count": 1,
   "metadata": {
    "collapsed": true
   },
   "outputs": [],
   "source": [
    "from ExampleCode.models import Document\n",
    "document = Document()"
   ]
  },
  {
   "cell_type": "markdown",
   "metadata": {},
   "source": [
    "此处内容的添加基于报告自身的分析方式，把报告的产出添加入document实例中"
   ]
  },
  {
   "cell_type": "code",
   "execution_count": 2,
   "metadata": {
    "collapsed": true
   },
   "outputs": [],
   "source": [
    "# 执行目录进入Example_1文件夹\n",
    "import os\n",
    "import logging\n",
    "os.chdir(\"./Example_1\")\n",
    "logging.info(\"当前目录 : {}\".format(os.getcwd()))"
   ]
  },
  {
   "cell_type": "code",
   "execution_count": 3,
   "metadata": {},
   "outputs": [],
   "source": [
    "# 执行报告制作的分析部分\n",
    "%run \"analysis.py\""
   ]
  },
  {
   "cell_type": "code",
   "execution_count": 4,
   "metadata": {
    "collapsed": true
   },
   "outputs": [],
   "source": [
    "document.author = author\n",
    "document.title = '%s-%s%s品类报告'%(info.start_time, info.end_time,info.category_name)\n",
    "document.foreword = \"\"\"\n",
    "这里是前言\n",
    "\"\"\".format(Preface[info.category_name],\n",
    "    info.start_time,\n",
    "          info.end_time,\n",
    "          info.category_name,\n",
    "          author)\n",
    "document.chapters[0].title = '一、总体情况'\n",
    "document.chapters[0].foreword = \"\"\"\n",
    "{.start_time}至{.end_time}共有{.commodity_total_count}款\n",
    "商品登榜亚马逊{.category_name}品类的相关榜单，\n",
    "其中涉及品牌数{.brand_total_count:.0f}个。\n",
    "截至{.end_time}，登榜商品总评论数达{.review_total_count:.0f}条，\n",
    "平均星级{.rating_mean:.2f}星。\\n\\n\n",
    "榜单的登榜商品及品牌数量情况如下表所示：\n",
    "\"\"\".format(info,info,info,info,info,info,info,info)\n",
    "document.chapters[0].table = pd.DataFrame(data = {'榜单':list(lists.keys()),\n",
    "                     '登榜商品数':[rank_list.commodity.count for rank_list in lists.values()],\n",
    "                     '登榜品牌数':[rank_list.brand.count for rank_list in lists.values()]\n",
    "                    })"
   ]
  },
  {
   "cell_type": "markdown",
   "metadata": {},
   "source": [
    "分析报告的结构发现，报告内容的第二到第四章使用相同的文章结构和分析方法，可以直接重复使用"
   ]
  },
  {
   "cell_type": "code",
   "execution_count": 7,
   "metadata": {},
   "outputs": [],
   "source": [
    "for i in range(3):\n",
    "    chinese_number = ['一', '二', '三', '四']\n",
    "    rank_name = list(lists.keys())[i]\n",
    "    rank_list = lists[rank_name]\n",
    "    \n",
    "    chapter = document.chapters[i+1]\n",
    "    chapter.title = \"{}、{}榜单分析：\".format(chinese_number[i+1], rank_name)\n",
    "    \n",
    "    chapter.chapters[0].title = '1.价格分布'\n",
    "    chapter.chapters[0].set_image(rank_list.price.image.fig)\n",
    "    chapter.chapters[0].content = \"\"\"\n",
    "    上周 {} 品类 {} 榜单商品最高价${:.2f}，\n",
    "    最低价${:.2f}，平均价格${:.2f}。{}发现，在上榜的商品中，\n",
    "    \"\"\".format(info.category_name, rank_name, rank_list.price.max, rank_list.price.min, \n",
    "              rank_list.price.mean, author)\n",
    "    \n",
    "    chapter.chapters[1].title = '2.评论量分布'\n",
    "    chapter.chapters[1].set_image(rank_list.review.image.fig)\n",
    "    chapter.chapters[1].content = \"\"\"\n",
    "    在上周登榜 {} 品类 {} 榜单的商品中，\n",
    "    单个商品拥有的最大评论数为{:.2f}条，最小评论数为{:.2f}条，平均评论数{:.2f}条，评论平均星级{:.2f}星。\n",
    "    \"\"\".format(info.category_name, rank_name, rank_list.review.max, rank_list.review.min, \n",
    "              rank_list.review.mean, rank_list.review.rating_mean)\n",
    "    \n",
    "    chapter.chapters[2].title = '3.商品排行'\n",
    "    chapter.chapters[2].foreword = '''根据上周 {} 榜单上商品的登榜次数及平均排名，\n",
    "    {}对登榜的商品进行了排序，其中排名靠前的五款商品如下所示：'''.format(rank_name, author)\n",
    "    chapter.chapters[2].table = rank_list.commodity.table\n",
    "    chapter.chapters[2].set_image(rank_list.commodity.image.fig)\n",
    "    chapter.chapters[2].content = \"\"\"\n",
    "    可以看到，在上周{}品类的{}榜单中，\n",
    "    \"\"\".format(info.category_name, rank_name)\n",
    "    \n",
    "    chapter.chapters[3].title = '4.品牌排行'\n",
    "    chapter.chapters[3].table = rank_list.brand.table\n",
    "    chapter.chapters[3].set_image(rank_list.brand.image.fig)\n",
    "    chapter.chapters[3].foreword = \"\"\"根据上周 {} 榜单上各个品牌下商品的登榜次数，{}对登榜的品牌进行了排序，\n",
    "    其中排名靠前的五个品牌如下所示：\"\"\".format(rank_name, author)\n",
    "    chapter.chapters[3].content = \"\"\"\n",
    "    可以看到，在上周{}品类的{}榜单中，\n",
    "    \"\"\".format(info.category_name, rank_name)\n",
    "    \n",
    "document.chapters[4].title = '  '\n",
    "document.chapters[4].content = \"\"\"\n",
    "这里是总结\n",
    "\"\"\""
   ]
  },
  {
   "cell_type": "code",
   "execution_count": 8,
   "metadata": {
    "collapsed": true
   },
   "outputs": [],
   "source": [
    "def print_structure(chapter, deep, show_contents = []):\n",
    "    if show_contents:\n",
    "        for content in show_contents:\n",
    "            if chapter.__dict__[content]:\n",
    "                content_value = chapter.__dict__[content]\n",
    "                if isinstance(content_value, str):\n",
    "                    print('--'*deep+content+\" : \" + chapter.__dict__[content])\n",
    "                else:\n",
    "                    print('--'*deep+content)\n",
    "    if chapter.chapters:\n",
    "        for subchapter in chapter.chapters:\n",
    "            if subchapter.__dict__['title']:\n",
    "                print('\\n--'*deep+'-'+subchapter.number)\n",
    "            print_structure(subchapter, deep+1, show_contents = show_contents)\n",
    "    else:\n",
    "        return"
   ]
  },
  {
   "cell_type": "code",
   "execution_count": 9,
   "metadata": {},
   "outputs": [
    {
     "name": "stdout",
     "output_type": "stream",
     "text": [
      "title : 2018年5月21日-2018年5月27日亚马逊美站\t Pet Supplies \t品类爆款分析\n",
      "-chapter0\n",
      "--title : 一、总体情况\n",
      "-chapter1\n",
      "--title : 二、Best Seller榜单分析：\n",
      "\n",
      "---chapter1_subchapter0\n",
      "----title : 1.价格分布\n",
      "\n",
      "---chapter1_subchapter1\n",
      "----title : 2.评论量分布\n",
      "\n",
      "---chapter1_subchapter2\n",
      "----title : 3.商品排行\n",
      "\n",
      "---chapter1_subchapter3\n",
      "----title : 4.品牌排行\n",
      "-chapter2\n",
      "--title : 三、Hot New Releases榜单分析：\n",
      "\n",
      "---chapter2_subchapter0\n",
      "----title : 1.价格分布\n",
      "\n",
      "---chapter2_subchapter1\n",
      "----title : 2.评论量分布\n",
      "\n",
      "---chapter2_subchapter2\n",
      "----title : 3.商品排行\n",
      "\n",
      "---chapter2_subchapter3\n",
      "----title : 4.品牌排行\n",
      "-chapter3\n",
      "--title : 四、Movers & Shakers榜单分析：\n",
      "\n",
      "---chapter3_subchapter0\n",
      "----title : 1.价格分布\n",
      "\n",
      "---chapter3_subchapter1\n",
      "----title : 2.评论量分布\n",
      "\n",
      "---chapter3_subchapter2\n",
      "----title : 3.商品排行\n",
      "\n",
      "---chapter3_subchapter3\n",
      "----title : 4.品牌排行\n",
      "-chapter4\n",
      "--title :   \n"
     ]
    }
   ],
   "source": [
    "print_structure(document, 0, show_contents = ['title'])"
   ]
  },
  {
   "cell_type": "markdown",
   "metadata": {
    "collapsed": true
   },
   "source": [
    "## 作业\n",
    "把更新后的print_structure方法放入./Example_1/models.py中的Document中"
   ]
  },
  {
   "cell_type": "code",
   "execution_count": null,
   "metadata": {
    "collapsed": true
   },
   "outputs": [],
   "source": []
  }
 ],
 "metadata": {
  "hide_input": false,
  "kernelspec": {
   "display_name": "Python 3",
   "language": "python",
   "name": "python3"
  },
  "language_info": {
   "codemirror_mode": {
    "name": "ipython",
    "version": 3
   },
   "file_extension": ".py",
   "mimetype": "text/x-python",
   "name": "python",
   "nbconvert_exporter": "python",
   "pygments_lexer": "ipython3",
   "version": "3.6.1"
  }
 },
 "nbformat": 4,
 "nbformat_minor": 2
}
