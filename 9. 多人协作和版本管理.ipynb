{
 "cells": [
  {
   "cell_type": "markdown",
   "metadata": {},
   "source": [
    "### 学习目标\n",
    "\n",
    "- 用Git进行自动化脚本的版本管理\n",
    "- 用Git保证团队报告自动化脚本的版本同步"
   ]
  },
  {
   "cell_type": "markdown",
   "metadata": {},
   "source": [
    "### 知识基础\n",
    "\n",
    "- Git基础知识"
   ]
  },
  {
   "cell_type": "markdown",
   "metadata": {},
   "source": [
    "### 1. 文档结构调整"
   ]
  },
  {
   "cell_type": "markdown",
   "metadata": {},
   "source": [
    "在多人协作时，我们要尽保持模板的同步，同时每个人对模板的完善都能集合在一起，而具体工作的内容不应该产生干扰。所以对于变动频繁的文件，我们可以集合起来然后进行同步时忽略处理。\n",
    "对于第8章的文档结构，会常发生变动的有：\n",
    "- ***report*** 自动化报告的工作目录\n",
    "    - main.ipynb 文件的主执行和调试文件，每次执行都会变化\n",
    "    - ***data***\n",
    "        - *dynamic_data.csv*\n",
    "        - *static_data.csv*\n",
    "    - ***image*** 存放生成的图片文件\n",
    "    - ***report*** 存放生成的报告\n",
    "    - **configs.py** 设置报告的参数，比如作者，日期，数据源等等，每次使用时可以仅仅修改设置便生成不同报告\n",
    "    \n",
    "而这些我们可以打包在一起放入***report***文件夹，把文档结构调整为：\n",
    "- ***report*** 自动化报告的工作目录\n",
    "    - ... 其他文件不动\n",
    "    - **configs.py** 在此需要添加设置报告的编号，且报告编号需要唯一\n",
    "    - main.ipynb 文件的主执行和调试文件，不会执行，仅仅作为母版\n",
    "    - ***data***\n",
    "        - *static_data.csv*\n",
    "    - ***reports*** 存放生成的报告\n",
    "        - ***report1*** 报告1\n",
    "        - ***report2*** 报告2\n",
    "            - main.ipynb 从上上级文件夹复制，每次执行时都会变化\n",
    "            - **configs.py** 基于上上级文件夹中的**configs.py**文件生成，作为此报告设置的记录\n",
    "            - ***data***\n",
    "                - *dynamic_data.csv*\n",
    "            - ***image*** 存放生成的图片文件"
   ]
  },
  {
   "cell_type": "markdown",
   "metadata": {},
   "source": [
    "**注意：**\n",
    "\n",
    "在文档结构调整后，我们还需要添加辅助用的小脚本，用途为：\n",
    "1. 基于**configs.py**在***reports***文件夹生成制作报告用的文件夹，并生成如下的目录结构\n",
    "    - ***report1*** 报告1\n",
    "        - main.ipynb  从上上级文件夹复制，每次执行时都会变化\n",
    "        - **configs.py** 基于上上级文件夹中的**configs.py**文件生成，作为此报告设置的记录\n",
    "        - ***data***\n",
    "        - ***image*** 存放生成的图片文件\n",
    "2. 检查***reports***文件夹中的目录结构是否正确"
   ]
  },
  {
   "cell_type": "markdown",
   "metadata": {},
   "source": [
    "**检查目录的小例子：**\n",
    "\n",
    "更复杂和完善的请根据报告形式自行编写"
   ]
  },
  {
   "cell_type": "code",
   "execution_count": 1,
   "metadata": {
    "collapsed": true,
    "scrolled": false
   },
   "outputs": [],
   "source": [
    "import os\n",
    "import logging\n",
    "logging.info(\"当前目录 : {}\".format(os.getcwd()))"
   ]
  },
  {
   "cell_type": "code",
   "execution_count": 3,
   "metadata": {
    "collapsed": true
   },
   "outputs": [],
   "source": [
    "def check_folder(folder_name):\n",
    "    if os.path.exists(folder_name):\n",
    "        logging.info(\"文件夹已创立：{}\".format(folder_name))\n",
    "    else:\n",
    "        logging.warning(\"文件夹未创立：{}\".format(folder_name))\n",
    "        os.makedirs(folder_name)\n",
    "        logging.info(\"文件夹创立完毕：{}\".format(folder_name))"
   ]
  },
  {
   "cell_type": "code",
   "execution_count": 2,
   "metadata": {
    "collapsed": true
   },
   "outputs": [],
   "source": [
    "check_folder(\"./Example_2\")\n",
    "# 修改当前工作目录\n",
    "os.chdir(\"./Example_2\")\n",
    "logging.info(\"当前目录 : {}\".format(os.getcwd()))"
   ]
  },
  {
   "cell_type": "code",
   "execution_count": 4,
   "metadata": {
    "collapsed": true
   },
   "outputs": [],
   "source": [
    "import configs\n",
    "check_folder(configs.report_name)"
   ]
  },
  {
   "cell_type": "code",
   "execution_count": 5,
   "metadata": {
    "collapsed": true
   },
   "outputs": [],
   "source": [
    "# 创建文件夹\n",
    "for folder in ['data', 'image']:\n",
    "    check_folder(r\"./{}/{}\".format(configs.report_name, folder))"
   ]
  },
  {
   "cell_type": "code",
   "execution_count": 9,
   "metadata": {
    "collapsed": true
   },
   "outputs": [],
   "source": [
    "# 复制文件\n",
    "import shutil\n",
    "for filename in ['main.ipynb', 'configs.py']:  \n",
    "    if os.path.exists(r\"./{}/{}\".format(configs.report_name, filename)):\n",
    "        logging.warning(\"文件未添加：./{}/{}\".format(configs.report_name, filename))\n",
    "    else:\n",
    "        shutil.copy(filename, r\"./{}/{}\".format(configs.report_name, filename))\n",
    "        logging.info(\"已复制文件：{}\".format(filename))"
   ]
  },
  {
   "cell_type": "markdown",
   "metadata": {},
   "source": [
    "### 2. main.ipynb的拆分\n",
    "这里分为两种情况：\n",
    "1. 报告尚未完全自动化，还需要人工干涉\n",
    "由于main.ipynb在每次执行时结果会不同，变动时无法保持同步，所以可以对其内容进行拆分，分为方法部分和人工设置部分，以实现方法部分通用，人工设置部分每篇报告都输入不同。\n",
    "2. 报告已经完全自动化\n",
    "这时候main.ipynb仅仅是作为一个调试工具，把其中的方法保存为main.py，之后直接执行main.py即可\n",
    "\n",
    "\n",
    "\n",
    "**TODO :**\n",
    "具体拆分方法和main.ipynb的组织方式会在之后补充。"
   ]
  },
  {
   "cell_type": "markdown",
   "metadata": {
    "collapsed": true
   },
   "source": [
    "### 3. 设置git添加时的忽略文件"
   ]
  },
  {
   "cell_type": "markdown",
   "metadata": {},
   "source": [
    "所以对于生成报告所用的公用文件，我们用Git进行版本控制，而每次报告都会不同的设置或者数据，以及生成文件，我们需要让Git忽略掉它们，但是还要保证文件的组成结构没有变化。"
   ]
  },
  {
   "cell_type": "markdown",
   "metadata": {},
   "source": [
    "比如对于调整前的文档结构，.gitignore的文件内容添加如下\n",
    "```\n",
    "\\__pycache__\n",
    "*.pyc\n",
    ".ipynb_checkpoints\n",
    "data/data.csv\n",
    "image/*\n",
    "report/*\n",
    "```\n",
    "分别忽略了：\n",
    "- python导入模块时的生成文件 `\\__pycache__、*.pyc`\n",
    "- ipynb的历史记录文件 `.ipynb_checkpoints`\n",
    "- 每份报告都会\n",
    "\n",
    "而对于调整后的文档结构，.gitignore的文件内容可改为添加如下\n",
    "```\n",
    "\\__pycache__\n",
    "*.pyc\n",
    ".ipynb_checkpoints\n",
    "report/*\n",
    "```"
   ]
  },
  {
   "cell_type": "code",
   "execution_count": null,
   "metadata": {
    "collapsed": true
   },
   "outputs": [],
   "source": []
  }
 ],
 "metadata": {
  "hide_input": false,
  "kernelspec": {
   "display_name": "Python 3",
   "language": "python",
   "name": "python3"
  },
  "language_info": {
   "codemirror_mode": {
    "name": "ipython",
    "version": 3
   },
   "file_extension": ".py",
   "mimetype": "text/x-python",
   "name": "python",
   "nbconvert_exporter": "python",
   "pygments_lexer": "ipython3",
   "version": "3.6.1"
  }
 },
 "nbformat": 4,
 "nbformat_minor": 2
}
